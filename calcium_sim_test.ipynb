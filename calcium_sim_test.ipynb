{
 "cells": [
  {
   "cell_type": "code",
   "execution_count": 10,
   "metadata": {},
   "outputs": [],
   "source": [
    "from neuron import h, rxd\n",
    "from neuron.units import ms, mV, nM\n",
    "import matplotlib.pyplot as plt"
   ]
  },
  {
   "cell_type": "markdown",
   "metadata": {},
   "source": [
    "### Making the neuron and adding channels"
   ]
  },
  {
   "cell_type": "code",
   "execution_count": 2,
   "metadata": {},
   "outputs": [
    {
     "data": {
      "text/plain": [
       "soma"
      ]
     },
     "execution_count": 2,
     "metadata": {},
     "output_type": "execute_result"
    }
   ],
   "source": [
    "soma = h.Section(name=\"soma\")\n",
    "soma.L = 20\n",
    "soma.diam = 20\n",
    "soma.insert(\"hh\")\n"
   ]
  },
  {
   "cell_type": "code",
   "execution_count": 3,
   "metadata": {},
   "outputs": [],
   "source": [
    "iclamp = h.IClamp(soma(0.5))\n",
    "iclamp.delay = 2\n",
    "iclamp.dur = 10\n",
    "iclamp.amp = 0.9"
   ]
  },
  {
   "cell_type": "markdown",
   "metadata": {},
   "source": [
    "### Reaction diffusion stuff...."
   ]
  },
  {
   "cell_type": "code",
   "execution_count": 4,
   "metadata": {},
   "outputs": [],
   "source": [
    "cyt = rxd.Region(soma.wholetree(), name=\"cyt\", nrn_region=\"i\")\n",
    "ca = rxd.Species(cyt, name=\"ca\", charge=2, atolscale=1e-6)\n",
    "na = rxd.Species(cyt, name=\"na\", charge=1)\n",
    "\n",
    "cavec = h.Vector().record(ca.nodes[0]._ref_concentration)\n",
    "navec = h.Vector().record(na.nodes[0]._ref_concentration)"
   ]
  },
  {
   "cell_type": "code",
   "execution_count": null,
   "metadata": {},
   "outputs": [],
   "source": []
  },
  {
   "cell_type": "code",
   "execution_count": null,
   "metadata": {},
   "outputs": [],
   "source": []
  },
  {
   "cell_type": "markdown",
   "metadata": {},
   "source": [
    "### Simulating the neuron"
   ]
  },
  {
   "cell_type": "code",
   "execution_count": 5,
   "metadata": {},
   "outputs": [],
   "source": [
    "v = h.Vector().record(soma(0.5)._ref_v)  # Membrane potential vector\n",
    "t = h.Vector().record(h._ref_t)  # Time stamp vector"
   ]
  },
  {
   "cell_type": "code",
   "execution_count": 6,
   "metadata": {},
   "outputs": [
    {
     "data": {
      "text/plain": [
       "0.0"
      ]
     },
     "execution_count": 6,
     "metadata": {},
     "output_type": "execute_result"
    }
   ],
   "source": [
    "h.load_file(\"stdrun.hoc\")\n",
    "h.finitialize(-65 * mV)\n",
    "h.continuerun(40 * ms)"
   ]
  },
  {
   "cell_type": "code",
   "execution_count": 7,
   "metadata": {},
   "outputs": [
    {
     "data": {
      "text/plain": [
       "[<matplotlib.lines.Line2D at 0x7f7974076100>]"
      ]
     },
     "execution_count": 7,
     "metadata": {},
     "output_type": "execute_result"
    },
    {
     "data": {
      "image/png": "[encoded data removed]",
      "text/plain": [
       "<Figure size 432x288 with 1 Axes>"
      ]
     },
     "metadata": {
      "needs_background": "light"
     },
     "output_type": "display_data"
    }
   ],
   "source": [
    "f = plt.figure()\n",
    "plt.plot(t, v)"
   ]
  },
  {
   "cell_type": "code",
   "execution_count": 15,
   "metadata": {},
   "outputs": [],
   "source": [
    "navec_array = (navec).as_numpy()"
   ]
  },
  {
   "cell_type": "code",
   "execution_count": 16,
   "metadata": {},
   "outputs": [
    {
     "data": {
      "text/plain": [
       "[<matplotlib.lines.Line2D at 0x7f7971302f40>]"
      ]
     },
     "execution_count": 16,
     "metadata": {},
     "output_type": "execute_result"
    },
    {
     "data": {
      "image/png": "[encoded data removed]",
      "text/plain": [
       "<Figure size 432x288 with 1 Axes>"
      ]
     },
     "metadata": {
      "needs_background": "light"
     },
     "output_type": "display_data"
    }
   ],
   "source": [
    "plt.plot(t, navec_array)"
   ]
  },
  {
   "cell_type": "code",
   "execution_count": 20,
   "metadata": {},
   "outputs": [
    {
     "name": "stdout",
     "output_type": "stream",
     "text": [
      "['_3doffset', '_3doffset_by_region', '__Pos__', '__abs__', '__add__', '__class__', '__del__', '__delattr__', '__dict__', '__dir__', '__div__', '__doc__', '__eq__', '__format__', '__ge__', '__getattribute__', '__getitem__', '__gt__', '__hash__', '__init__', '__init_subclass__', '__le__', '__lt__', '__module__', '__mul__', '__ne__', '__neg__', '__new__', '__pow__', '__radd__', '__rdiv__', '__reduce__', '__reduce_ex__', '__repr__', '__rfloordiv__', '__rmul__', '__rsub__', '__rtruediv__', '__setattr__', '__sizeof__', '__str__', '__sub__', '__subclasshook__', '__truediv__', '__weakref__', '_all_intracellular_nodes', '_allow_setting', '_assign_parents', '_atolscale', '_charge', '_d', '_do_init', '_do_init1', '_do_init2', '_do_init3', '_do_init4', '_do_init5', '_do_init6', '_ecs_boundary_conditions', '_evaluate', '_extracellular_instances', '_extracellular_nodes', '_extracellular_regions', '_finitialize', '_has_adjusted_offsets', '_has_region_section', '_id', '_import_concentration', '_indices1d', '_indices3d', '_intracellular_instances', '_intracellular_nodes', '_involved_species', '_ion_register', '_name', '_num_roots', '_offset', '_real_name', '_region_indices', '_region_section', '_regions', '_register_cptrs', '_root_children', '_secs', '_semi_compile', '_setup_c_matrix', '_setup_currents', '_setup_diffusion_matrix', '_short_repr', '_species', '_species_on_region', '_state', '_transfer_to_legacy', '_update_node_data', '_update_region_indices', 'charge', 'concentrations', 'd', 'defined_on_region', 'indices', 'initial', 'name', 'nodes', 're_init', 'regions', 'represents', 'states']\n"
     ]
    }
   ],
   "source": [
    "print(dir(na))"
   ]
  },
  {
   "cell_type": "code",
   "execution_count": null,
   "metadata": {},
   "outputs": [],
   "source": []
  }
 ],
 "metadata": {
  "kernelspec": {
   "display_name": "base",
   "language": "python",
   "name": "python3"
  },
  "language_info": {
   "codemirror_mode": {
    "name": "ipython",
    "version": 3
   },
   "file_extension": ".py",
   "mimetype": "text/x-python",
   "name": "python",
   "nbconvert_exporter": "python",
   "pygments_lexer": "ipython3",
   "version": "3.9.12"
  },
  "orig_nbformat": 4
 },
 "nbformat": 4,
 "nbformat_minor": 2
}
